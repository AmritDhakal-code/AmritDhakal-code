{
  "nbformat": 4,
  "nbformat_minor": 0,
  "metadata": {
    "colab": {
      "provenance": [],
      "mount_file_id": "1Fg7gP9qXFKjFBUadqHxPHKwqZx7BXTW2",
      "authorship_tag": "ABX9TyMWv5HlNpbkyN8zGRRmf0am",
      "include_colab_link": true
    },
    "kernelspec": {
      "name": "python3",
      "display_name": "Python 3"
    },
    "language_info": {
      "name": "python"
    }
  },
  "cells": [
    {
      "cell_type": "markdown",
      "metadata": {
        "id": "view-in-github",
        "colab_type": "text"
      },
      "source": [
        "<a href=\"https://colab.research.google.com/github/AmritDhakal-code/AmritDhakal-code/blob/main/SOH_estimation.ipynb\" target=\"_parent\"><img src=\"https://colab.research.google.com/assets/colab-badge.svg\" alt=\"Open In Colab\"/></a>"
      ]
    },
    {
      "cell_type": "code",
      "execution_count": 2,
      "metadata": {
        "id": "PX5PzqKqb49G"
      },
      "outputs": [],
      "source": [
        "import scipy.io #initializes libraries\n",
        "\n",
        "import time\n",
        "import math\n",
        "\n",
        "import torch\n",
        "import torch.nn as nn\n",
        "from torch.utils.data import TensorDataset, DataLoader\n",
        "\n",
        "import pandas as pd\n",
        "import numpy as np\n",
        "import matplotlib.pyplot as plt\n",
        "from sklearn.preprocessing import MinMaxScaler"
      ]
    },
    {
      "cell_type": "code",
      "source": [
        "mat = scipy.io.loadmat('/content/drive/MyDrive/Colab Notebooks/SOH estimation/Datasets/Oxford_Battery_Degradation_Dataset_1.mat') #reads dataset"
      ],
      "metadata": {
        "id": "Bxbomr1FcSsi"
      },
      "execution_count": 7,
      "outputs": []
    },
    {
      "cell_type": "code",
      "source": [
        "mat.keys()"
      ],
      "metadata": {
        "colab": {
          "base_uri": "https://localhost:8080/"
        },
        "id": "m9Z-Q9XMcZW0",
        "outputId": "f5b8977a-1624-4e3e-cc5d-514aecf5e803"
      },
      "execution_count": 8,
      "outputs": [
        {
          "output_type": "execute_result",
          "data": {
            "text/plain": [
              "dict_keys(['__header__', '__version__', '__globals__', 'Cell1', 'Cell2', 'Cell3', 'Cell4', 'Cell5', 'Cell6', 'Cell7', 'Cell8'])"
            ]
          },
          "metadata": {},
          "execution_count": 8
        }
      ]
    },
    {
      "cell_type": "code",
      "source": [
        "list(mat.keys())"
      ],
      "metadata": {
        "colab": {
          "base_uri": "https://localhost:8080/"
        },
        "id": "B_54fGYKfggJ",
        "outputId": "9b6085ee-1dec-40e9-f6aa-5b75fdd0d4a9"
      },
      "execution_count": 9,
      "outputs": [
        {
          "output_type": "execute_result",
          "data": {
            "text/plain": [
              "['__header__',\n",
              " '__version__',\n",
              " '__globals__',\n",
              " 'Cell1',\n",
              " 'Cell2',\n",
              " 'Cell3',\n",
              " 'Cell4',\n",
              " 'Cell5',\n",
              " 'Cell6',\n",
              " 'Cell7',\n",
              " 'Cell8']"
            ]
          },
          "metadata": {},
          "execution_count": 9
        }
      ]
    },
    {
      "cell_type": "code",
      "source": [
        "input_data = [\n",
        "    [[], []],  # cell 1, [0, 1, 2, ... 82], [730, 729, ... value for q, ... , 530]\n",
        "    [[], []],\n",
        "    [[], []],\n",
        "    [[], []],\n",
        "    [[], []],\n",
        "    [[], []],\n",
        "    [[], []],\n",
        "    [[], []]\n",
        "]\n",
        "\n",
        "CELL_SIZE = [83, 78, 82, 52, 49, 51, 82, 82] # number of the cycles for each cel"
      ],
      "metadata": {
        "id": "BvcZJJNBfjLI"
      },
      "execution_count": 10,
      "outputs": []
    },
    {
      "cell_type": "code",
      "source": [],
      "metadata": {
        "id": "OMyweqhTfrd4"
      },
      "execution_count": null,
      "outputs": []
    }
  ]
}